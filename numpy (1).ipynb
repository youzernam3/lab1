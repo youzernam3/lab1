{
 "cells": [
  {
   "cell_type": "markdown",
   "metadata": {
    "id": "vC84e9kzyxPy"
   },
   "source": [
    "<h1>Импорт библиотек"
   ]
  },
  {
   "cell_type": "code",
   "execution_count": 3,
   "metadata": {
    "id": "cgKeNegmQG5S"
   },
   "outputs": [],
   "source": [
    "import numpy as np\n",
    "import matplotlib.pyplot as plt"
   ]
  },
  {
   "cell_type": "markdown",
   "metadata": {
    "id": "qFM9uVU2x4Ls"
   },
   "source": [
    "<h1>Задача 1. Дан набор из $p$ матриц размерностью $(n, n)$ и $p$ векторов размерностью $(n, 1)$, найти сумму произведений матриц на векторы. Написать тесты для кода"
   ]
  },
  {
   "cell_type": "code",
   "execution_count": null,
   "metadata": {
    "id": "IAbUvEiYyWFF"
   },
   "outputs": [],
   "source": [
    "def sum_prod(X, V):\n",
    "    '''\n",
    "    X - список матриц (n, n)\n",
    "    V - список векторов (n, 1)\n",
    "    Возвращает сумму произведений каждой матрицы на соответствующий вектор\n",
    "    '''\n",
    "    result = sum(np.dot(matrix, vector) for matrix, vector in zip(X, V))\n",
    "    return result\n",
    "\n",
    "# Тесты\n",
    "def test_sum_prod():\n",
    "    X = [np.array([[1, 2], [3, 4]]), np.array([[5, 6], [7, 8]])]\n",
    "    V = [np.array([[1], [2]]), np.array([[2], [3]])]\n",
    "    result = sum_prod(X, V)\n",
    "    expected = np.array([[25], [57]])\n",
    "    assert np.all(result == expected)\n",
    "\n",
    "test_sum_prod()\n"
   ]
  },
  {
   "cell_type": "markdown",
   "metadata": {
    "id": "TKwPG4fIy2w4"
   },
   "source": [
    "<h1>Задача 2. Дана матрица M, напишите функцию, которая бинаризует матрицу по некоторому threshold (то есть, все значения большие threshold становятся равными 1, иначе 0). Напишите тесты для кода"
   ]
  },
  {
   "cell_type": "code",
   "execution_count": null,
   "metadata": {
    "id": "KQDNMgsjRNH7"
   },
   "outputs": [],
   "source": [
    "def binarize(M, threshold=0.5):\n",
    "    '''\n",
    "    M - матрица\n",
    "    threshold - порог для бинаризации\n",
    "    Возвращает бинаризованную матрицу\n",
    "    '''\n",
    "    return np.where(M > threshold, 1, 0)\n",
    "\n",
    "# Тесты\n",
    "def test_binarize():\n",
    "    M = np.array([[0.3, 0.7], [0.6, 0.2]])\n",
    "    result = binarize(M, 0.5)\n",
    "    expected = np.array([[0, 1], [1, 0]])\n",
    "    assert np.all(result == expected)\n",
    "\n",
    "test_binarize()\n"
   ]
  },
  {
   "cell_type": "markdown",
   "metadata": {
    "id": "IY5L-h-7zWhN"
   },
   "source": [
    "<h1>Задача 3. Напишите функцию, которая возвращает уникальные элементы из каждой строки матрицы. Напишите такую же функцию, но для столбцов. Напишите тесты для кода"
   ]
  },
  {
   "cell_type": "code",
   "execution_count": null,
   "metadata": {
    "id": "-8dEZhR0SBC-"
   },
   "outputs": [],
   "source": [
    "def unique_rows(mat):\n",
    "    return [np.unique(row) for row in mat]\n",
    "\n",
    "def unique_columns(mat):\n",
    "    return [np.unique(col) for col in mat.T]\n",
    "\n",
    "# Тесты\n",
    "def test_unique_rows_and_columns():\n",
    "    mat = np.array([[1, 2, 2], [3, 3, 4], [5, 5, 5]])\n",
    "    \n",
    "    result_rows = unique_rows(mat)\n",
    "    expected_rows = [np.array([1, 2]), np.array([3, 4]), np.array([5])]\n",
    "    assert all(np.array_equal(r, e) for r, e in zip(result_rows, expected_rows))\n",
    "    \n",
    "    result_columns = unique_columns(mat)\n",
    "    expected_columns = [np.array([1, 3, 5]), np.array([2, 3, 5]), np.array([2, 4, 5])]\n",
    "    assert all(np.array_equal(r, e) for r, e in zip(result_columns, expected_columns))\n",
    "\n",
    "test_unique_rows_and_columns()\n"
   ]
  },
  {
   "cell_type": "markdown",
   "metadata": {
    "id": "roYAlo4Jz-lH"
   },
   "source": [
    "<h1>Задача 4. Напишите функцию, которая заполняет матрицу с размерами $(m, n)$ случайными числами, распределенными по нормальному закону. Затем считает мат. ожидание и дисперсию для каждого из столбцов и строк, а также строит для каждой строки и столбца гистограмму значений (использовать функцию hist из модуля matplotlib.plot)"
   ]
  },
  {
   "cell_type": "code",
   "execution_count": null,
   "metadata": {
    "id": "nZK_71hMSQzv"
   },
   "outputs": [],
   "source": [
    "def generate_and_analyze_matrix(m, n):\n",
    "    mat = np.random.randn(m, n)\n",
    "    \n",
    "    # Мат. ожидание и дисперсия по строкам и столбцам\n",
    "    mean_rows = np.mean(mat, axis=1)\n",
    "    var_rows = np.var(mat, axis=1)\n",
    "    mean_columns = np.mean(mat, axis=0)\n",
    "    var_columns = np.var(mat, axis=0)\n",
    "    \n",
    "    # Гистограммы\n",
    "    for i in range(m):\n",
    "        plt.hist(mat[i, :], bins=10)\n",
    "        plt.title(f\"Гистограмма для строки {i+1}\")\n",
    "        plt.show()\n",
    "\n",
    "    for j in range(n):\n",
    "        plt.hist(mat[:, j], bins=10)\n",
    "        plt.title(f\"Гистограмма для столбца {j+1}\")\n",
    "        plt.show()\n",
    "    \n",
    "    return mean_rows, var_rows, mean_columns, var_columns\n",
    "\n",
    "# Генерация и анализ\n",
    "mean_rows, var_rows, mean_columns, var_columns = generate_and_analyze_matrix(5, 5)\n"
   ]
  },
  {
   "cell_type": "markdown",
   "metadata": {
    "id": "BDyATNdM0dJ2"
   },
   "source": [
    "<h1>Задача 5. Напишите функцию, которая заполняет матрицу $(m, n)$ в шахматном порядке заданными числами $a$ и $b$. Напишите тесты для кода"
   ]
  },
  {
   "cell_type": "code",
   "execution_count": null,
   "metadata": {
    "id": "RWNJYWQGecS6"
   },
   "outputs": [],
   "source": [
    "def chess(m, n, a, b):\n",
    "    '''\n",
    "    m, n - размеры матрицы\n",
    "    a, b - числа для чередования в шахматном порядке\n",
    "    '''\n",
    "    mat = np.zeros((m, n))\n",
    "    mat[::2, ::2] = a\n",
    "    mat[1::2, 1::2] = a\n",
    "    mat[::2, 1::2] = b\n",
    "    mat[1::2, ::2] = b\n",
    "    return mat\n",
    "\n",
    "# Тесты\n",
    "def test_chess():\n",
    "    result = chess(3, 3, 1, 0)\n",
    "    expected = np.array([[1, 0, 1], [0, 1, 0], [1, 0, 1]])\n",
    "    assert np.all(result == expected)\n",
    "\n",
    "test_chess()\n"
   ]
  },
  {
   "cell_type": "markdown",
   "metadata": {
    "id": "-ymXLtTN0vB6"
   },
   "source": [
    "<h1>Задача 6. Напишите функцию, которая отрисовывает прямоугольник с заданными размерами (a, b) на изображении размера (m, n), цвет фона задайте в схеме RGB, как и цвет прямоугольника. Цвета также должны быть параметрами функции. Напишите аналогичную функцию но для овала с полуосями a и b. Напишите тесты для кода.\n",
    "Примечание: уравнение эллипса (границы овала) можно записать как:\n",
    "<h1>$\\frac{(x-x_0)^2}{a^2}+\\frac{(y-y_0)^2}{b^2}=1$"
   ]
  },
  {
   "cell_type": "code",
   "execution_count": 1,
   "metadata": {
    "id": "sNfl1t_kfOF4"
   },
   "outputs": [],
   "source": [
    "def draw_rectangle(a, b, m, n, rectangle_color, background_color):\n",
    "    img = np.ones((m, n, 3)) * background_color\n",
    "    img[:a, :b] = rectangle_color\n",
    "    plt.imshow(img)\n",
    "    plt.show()\n",
    "\n",
    "def draw_ellipse(a, b, m, n, ellipse_color, background_color):\n",
    "    y, x = np.ogrid[:m, :n]\n",
    "    mask = ((x - n/2)**2 / a**2 + (y - m/2)**2 / b**2) <= 1\n",
    "    img = np.ones((m, n, 3)) * background_color\n",
    "    img[mask] = ellipse_color\n",
    "    plt.imshow(img)\n",
    "    plt.show()\n",
    "\n",
    "# Пример рисования\n",
    "draw_rectangle(50, 100, 200, 200, [1, 0, 0], [1, 1, 1])\n",
    "draw_ellipse(50, 100, 200, 200, [0, 1, 0], [1, 1, 1])\n"
   ]
  },
  {
   "cell_type": "markdown",
   "metadata": {
    "id": "S82c38oz244H"
   },
   "source": [
    "<h1>Задача 7. Дан некий временной ряд. Для данного ряда нужно найти его: математическое ожидание, дисперсию, СКО, найти все локальные максимумы и минимумы (локальный максимум - это точка, которая больше своих соседних точек, а локальный минимум - это точка, которая меньше своих соседей), а также вычислить для данного ряда другой ряд, получаемый методом скользящего среднего с размером окна $p$.\n",
    "<h1>Примечание: метод скользящего среднего подразумевает нахождение среднего из подмножетсва ряда размером $p$"
   ]
  },
  {
   "cell_type": "code",
   "execution_count": null,
   "metadata": {
    "id": "Zb9mIVge5MMt"
   },
   "outputs": [],
   "source": [
    "def analyze_series(series, window_size):\n",
    "    mean = np.mean(series)\n",
    "    var = np.var(series)\n",
    "    std = np.std(series)\n",
    "    \n",
    "    # Локальные максимумы и минимумы\n",
    "    local_max = (np.diff(np.sign(np.diff(series))) < 0).nonzero()[0] + 1\n",
    "    local_min = (np.diff(np.sign(np.diff(series))) > 0).nonzero()[0] + 1\n",
    "    \n",
    "    # Скользящее среднее\n",
    "    moving_avg = np.convolve(series, np.ones(window_size) / window_size, mode='valid')\n",
    "    \n",
    "    return mean, var, std, local_max, local_min, moving_avg\n",
    "\n",
    "# Тестирование\n",
    "series = np.array([1, 3, 7, 1, 2, 6, 0, 1, 5, 4])\n",
    "result = analyze_series(series, 3)\n",
    "print(result)\n"
   ]
  },
  {
   "cell_type": "markdown",
   "metadata": {
    "id": "jPkylmOX5O9n"
   },
   "source": [
    "<h1> Задача 8. Дан некоторый вектор с целочисленными метками классов, напишите функцию, которая выполняет one-hot-encoding для данного вектора\n",
    "<h1> One-hot-encoding - представление, в котором на месте метки некоторого класса стоит 1, в остальных позициях стоит 0. Например для вектора [0, 2, 3, 0] one-hot-encoding выглядит как: [[1, 0, 0, 0], [0, 0, 1, 0], [0, 0, 0, 1], [1, 0, 0, 0]]"
   ]
  },
  {
   "cell_type": "code",
   "execution_count": null,
   "metadata": {
    "id": "Y-jlnZvw56lD"
   },
   "outputs": [],
   "source": [
    "def one_hot_encoding(labels):\n",
    "    n_classes = np.max(labels) + 1\n",
    "    return np.eye(n_classes)[labels]\n",
    "\n",
    "# Тесты\n",
    "def test_one_hot_encoding():\n",
    "    labels = np.array([0, 2, 3, 0])\n",
    "    result = one_hot_encoding(labels)\n",
    "    expected = np.array([[1, 0, 0, 0], [0, 0, 1, 0], [0, 0, 0, 1], [1, 0, 0, 0]])\n",
    "    assert np.all(result == expected)\n",
    "\n",
    "test_one_hot_encoding()\n"
   ]
  }
 ],
 "metadata": {
  "colab": {
   "provenance": []
  },
  "kernelspec": {
   "display_name": "Python 3 (ipykernel)",
   "language": "python",
   "name": "python3"
  },
  "language_info": {
   "codemirror_mode": {
    "name": "ipython",
    "version": 3
   },
   "file_extension": ".py",
   "mimetype": "text/x-python",
   "name": "python",
   "nbconvert_exporter": "python",
   "pygments_lexer": "ipython3",
   "version": "3.12.4"
  }
 },
 "nbformat": 4,
 "nbformat_minor": 4
}
