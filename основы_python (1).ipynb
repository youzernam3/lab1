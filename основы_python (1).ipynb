{
 "cells": [
  {
   "cell_type": "code",
   "execution_count": null,
   "metadata": {},
   "outputs": [],
   "source": [
    "Задача 1\n",
    "Написать функцию на вход которой подается строка, состоящая из латинских букв. Функция должна вернуть количество гласных букв (a, e, i, o, u) в этой строке. Написать тесты для кода"
   ]
  },
  {
   "cell_type": "code",
   "execution_count": null,
   "metadata": {},
   "outputs": [],
   "source": [
    "def count_vowels(s):\n",
    "    vowels = set('aeiou')\n",
    "    return sum(1 for char in s.lower() if char in vowels)\n",
    "\n",
    "# Тесты\n",
    "def test_count_vowels():\n",
    "    assert count_vowels(\"hello\") == 2\n",
    "    assert count_vowels(\"world\") == 1\n",
    "    assert count_vowels(\"AEIOU\") == 5\n",
    "    assert count_vowels(\"bcd\") == 0\n",
    "\n",
    "test_count_vowels()\n"
   ]
  },
  {
   "cell_type": "markdown",
   "metadata": {
    "id": "t2ClV_Y0bbr6"
   },
   "source": [
    "# Задача 2\n",
    "Написать функцию на вход, которой подается строка. Функция должна вернуть true, если\n",
    "каждый символ в строке встречается только 1 раз, иначе должна вернуть false. Написать тесты для кода"
   ]
  },
  {
   "cell_type": "code",
   "execution_count": 3,
   "metadata": {
    "id": "FppbECao6VIz"
   },
   "outputs": [],
   "source": [
    "def is_unique(s):\n",
    "    return len(set(s)) == len(s)\n",
    "\n",
    "# Тесты\n",
    "def test_is_unique():\n",
    "    assert is_unique(\"abcdef\") == True\n",
    "    assert is_unique(\"hello\") == False\n",
    "    assert is_unique(\"123456\") == True\n",
    "    assert is_unique(\"112233\") == False\n",
    "\n",
    "test_is_unique()\n"
   ]
  },
  {
   "cell_type": "markdown",
   "metadata": {
    "id": "udRiIK1cdt6E"
   },
   "source": [
    "# Задача 3\n",
    "Написать функцию, которая принимает положительное число и возвращает количество\n",
    "бит равных 1 в этом числе. Написать тесты для кода"
   ]
  },
  {
   "cell_type": "code",
   "execution_count": 4,
   "metadata": {
    "id": "6tkfDJRz6dp_"
   },
   "outputs": [],
   "source": [
    "def count_ones(n):\n",
    "    return bin(n).count('1')\n",
    "\n",
    "# Тесты\n",
    "def test_count_ones():\n",
    "    assert count_ones(0) == 0\n",
    "    assert count_ones(7) == 3  # 111\n",
    "    assert count_ones(15) == 4  # 1111\n",
    "    assert count_ones(32) == 1  # 100000\n",
    "\n",
    "test_count_ones()\n"
   ]
  },
  {
   "cell_type": "markdown",
   "metadata": {
    "id": "26dDUz-Ae17N"
   },
   "source": [
    "# Задача 4\n",
    "Написать функцию, которая принимает положительное число. Функция должна вернуть то,\n",
    "сколько раз необходимо перемножать цифры числа или результат перемножения, чтобы\n",
    "получилось число состоящее из одной цифры.\n",
    "Например, для входного числа:\n",
    "· 39 функция должна вернуть 3, так как 3*9=27 => 2*7=14 => 1*4=4\n",
    "· 4 функция должна вернуть 0, так как число уже состоит из одной цифры\n",
    "· 999 функция должна вернуть 4, так как 9*9*9=729 => 7*2*9=126 => 1*2*6=12 =>\n",
    "1*2=2. Написать тесты для кода"
   ]
  },
  {
   "cell_type": "code",
   "execution_count": 5,
   "metadata": {
    "id": "BH1A_Mgi6i4G"
   },
   "outputs": [],
   "source": [
    "def magic(n):\n",
    "    steps = 0\n",
    "    while n >= 10:\n",
    "        n = eval('*'.join(str(n)))\n",
    "        steps += 1\n",
    "    return steps\n",
    "\n",
    "# Тесты\n",
    "def test_magic():\n",
    "    assert magic(39) == 3\n",
    "    assert magic(4) == 0\n",
    "    assert magic(999) == 4\n",
    "    assert magic(25) == 2\n",
    "\n",
    "test_magic()\n"
   ]
  },
  {
   "cell_type": "markdown",
   "metadata": {
    "id": "0nS-kIa8g8vd"
   },
   "source": [
    "# Задача 5\n",
    "Написать функцию, которая принимает два целочисленных вектора одинаковой длины и\n",
    "возвращает среднеквадратическое отклонение двух векторов. Написать тесты для кода"
   ]
  },
  {
   "cell_type": "code",
   "execution_count": null,
   "metadata": {
    "id": "8iphx4LM6xbx"
   },
   "outputs": [],
   "source": [
    "import math\n",
    "\n",
    "def mse(pred, true):\n",
    "    return sum((p - t) ** 2 for p, t in zip(pred, true)) / len(pred)\n",
    "\n",
    "# Тесты\n",
    "def test_mse():\n",
    "    assert mse([1, 2, 3], [1, 2, 3]) == 0\n",
    "    assert mse([1, 2, 3], [4, 5, 6]) == 9\n",
    "    assert mse([1, 2, 3], [2, 2, 2]) == 0.6666666666666666\n",
    "\n",
    "test_mse()\n"
   ]
  },
  {
   "cell_type": "markdown",
   "metadata": {
    "id": "vpIPKL439zkw"
   },
   "source": [
    "# Задача 6\n",
    "Написать функцию, принимающая целое положительное число. Функция должна вернуть\n",
    "строку вида “(n1**p1)(n2**p2)…(nk**pk)” представляющая разложение числа на простые\n",
    "множители (если pi == 1, то выводить только ni).\n",
    "Например, для числа 86240 функция должна вернуть “(2**5)(5)(7**2)(11)”. Написать тесты для кода"
   ]
  },
  {
   "cell_type": "code",
   "execution_count": null,
   "metadata": {
    "id": "pFebmcZk94Jw"
   },
   "outputs": [],
   "source": [
    "def prime_factors(n):\n",
    "    factors = []\n",
    "    d = 2\n",
    "    while d * d <= n:\n",
    "        count = 0\n",
    "        while (n % d) == 0:\n",
    "            n //= d\n",
    "            count += 1\n",
    "        if count > 0:\n",
    "            if count == 1:\n",
    "                factors.append(f\"({d})\")\n",
    "            else:\n",
    "                factors.append(f\"({d}**{count})\")\n",
    "        d += 1\n",
    "    if n > 1:\n",
    "        factors.append(f\"({n})\")\n",
    "    return ''.join(factors)\n",
    "\n",
    "# Тесты\n",
    "def test_prime_factors():\n",
    "    assert prime_factors(86240) == \"(2**5)(5)(7**2)(11)\"\n",
    "    assert prime_factors(100) == \"(2**2)(5**2)\"\n",
    "    assert prime_factors(13) == \"(13)\"\n",
    "    assert prime_factors(1) == \"\"\n",
    "\n",
    "test_prime_factors()\n"
   ]
  },
  {
   "cell_type": "markdown",
   "metadata": {
    "id": "ps2s0BudX7A2"
   },
   "source": [
    "# Задача 7\n",
    "Написать функцию, принимающая целое число n, задающее количество кубиков. Функция\n",
    "должна определить, можно ли из данного кол-ва кубиков построить пирамиду, то есть\n",
    "можно ли представить число n как 1^2+2^2+3^2+…+k^2. Если можно, то функция должна\n",
    "вернуть k, иначе строку “It is impossible”. Написать тесты для кода"
   ]
  },
  {
   "cell_type": "code",
   "execution_count": null,
   "metadata": {
    "id": "3YPjEXxhX_YT"
   },
   "outputs": [],
   "source": [
    "def pyramid(number):\n",
    "    total = 0\n",
    "    k = 0\n",
    "    while total < number:\n",
    "        k += 1\n",
    "        total += k ** 2\n",
    "    return k if total == number else \"It is impossible\"\n",
    "\n",
    "# Тесты\n",
    "def test_pyramid():\n",
    "    assert pyramid(14) == 3\n",
    "    assert pyramid(30) == \"It is impossible\"\n",
    "    assert pyramid(1) == 1\n",
    "    assert pyramid(5) == \"It is impossible\"\n",
    "\n",
    "test_pyramid()\n"
   ]
  },
  {
   "cell_type": "markdown",
   "metadata": {
    "id": "KeKgmIdAQMEJ"
   },
   "source": [
    "# Задача 8\n",
    "Функция принимает на вход положительное число и определяет является ли оно сбалансированным, т.е. сумма цифр до средних равна сумме цифр после. Средними в случае нечетного числа цифр считать одну цифру, в случае четного - две средних. Написать тесты для кода"
   ]
  },
  {
   "cell_type": "code",
   "execution_count": 1,
   "metadata": {
    "id": "gMAAqtqlQrZt"
   },
   "outputs": [],
   "source": [
    "def is_balanced(n):\n",
    "    s = str(n)\n",
    "    length = len(s)\n",
    "    mid = length // 2\n",
    "    if length % 2 == 0:\n",
    "        left, right = s[:mid], s[mid:]\n",
    "    else:\n",
    "        left, right = s[:mid], s[mid+1:]\n",
    "    return sum(map(int, left)) == sum(map(int, right))\n",
    "\n",
    "# Тесты\n",
    "def test_is_balanced():\n",
    "    assert is_balanced(123321) == True\n",
    "    assert is_balanced(12321) == True\n",
    "    assert is_balanced(123456) == False\n",
    "    assert is_balanced(98765) == False\n",
    "\n",
    "test_is_balanced()\n"
   ]
  }
 ],
 "metadata": {
  "colab": {
   "provenance": []
  },
  "kernelspec": {
   "display_name": "Python 3 (ipykernel)",
   "language": "python",
   "name": "python3"
  },
  "language_info": {
   "codemirror_mode": {
    "name": "ipython",
    "version": 3
   },
   "file_extension": ".py",
   "mimetype": "text/x-python",
   "name": "python",
   "nbconvert_exporter": "python",
   "pygments_lexer": "ipython3",
   "version": "3.12.4"
  }
 },
 "nbformat": 4,
 "nbformat_minor": 4
}
